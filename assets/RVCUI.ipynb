{
  "nbformat": 4,
  "nbformat_minor": 0,
  "metadata": {
    "colab": {
      "provenance": [],
      "gpuType": "T4",
      "include_colab_link": true
    },
    "kernelspec": {
      "name": "python3",
      "display_name": "Python 3"
    },
    "language_info": {
      "name": "python"
    },
    "accelerator": "GPU"
  },
  "cells": [
    {
      "cell_type": "markdown",
      "metadata": {
        "id": "view-in-github",
        "colab_type": "text"
      },
      "source": [
        "<a href=\"https://colab.research.google.com/github/TheNeodev/AICoverGen-UI/blob/main/assets/RVCUI.ipynb\" target=\"_parent\"><img src=\"https://colab.research.google.com/assets/colab-badge.svg\" alt=\"Open In Colab\"/></a>"
      ]
    },
    {
      "cell_type": "markdown",
      "source": [
        " # ** AICoverGen-UI**\n",
        "- Original Created by [Shirou](https://github.com/ShiromiyaG)\n",
        "<br>This colab uses the following projects:\n",
        "- [Music Source Separation Universal Training Code](https://github.com/ZFTurbo/Music-Source-Separation-Training) by [ZFTurbo](https://github.com/ZFTurbo)\n",
        "- [Applio](https://github.com/IAHispano/Applio) by [IAHispano](https://github.com/IAHispano)"
      ],
      "metadata": {
        "id": "c9P4leWNHMnk"
      }
    },
    {
      "cell_type": "code",
      "execution_count": null,
      "metadata": {
        "cellView": "form",
        "id": "T17zRP0AHKMo"
      },
      "outputs": [],
      "source": [
        "#@title ## **Install**\n",
        "!sudo apt update\n",
        "!sudo apt install python3.10\n",
        "!sudo update-alternatives --install /usr/bin/python3 python3 /usr/bin/python3.10 1\n",
        "!sudo update-alternatives --set python3 /usr/bin/python3.10\n",
        "!curl -sS https://bootstrap.pypa.io/get-pip.py | python3\n",
        "import sys\n",
        "sys.path.append('/usr/local/lib/python3.10/dist-packages')\n",
        "\n",
        "import os\n",
        "import codecs\n",
        "from IPython.display import clear_output\n",
        "print(\"Installing requirements\")\n",
        "repo = \"https://github.com/TheNeodev/AICoverGen-UI.git\"\n",
        "\n",
        "!git clone $repo main_program  &> /dev/null\n",
        "%cd main_program\n",
        "!pip install uv\n",
        "!uv pip install --no-deps -r requirements.txt\n",
        "!uv pip install torch==2.3.1 torchvision==0.18.1 torchaudio==2.3.1 --upgrade --index-url https://download.pytorch.org/whl/cu121\n",
        "!uv pip install numpy==1.23.5\n",
        "!pip install pyngrok\n",
        "\n",
        "\n",
        "!python programs/applio_code/rvc/lib/tools/prerequisites_download.py\n",
        "clear_output()\n",
        "print(\"Requirements installed!\")"
      ]
    },
    {
      "cell_type": "code",
      "source": [
        "#@title ## **Start UI**\n",
        "\n",
        "#@markdown The type of tunnel you wanna use for seeing the public link, so that if one of them is down, you can use the other one.\n",
        "Tunnel = \"Gradio\" #@param [\"Gradio\", \"Ngrok\", \"LocalTunnel\", \"Horizon\"]\n",
        "\n",
        "#@markdown Also when using Ngrok, LocalTunnel or Horizon, you need to wait for the Local URL to appear, and only after that click on the Public URL which is above.\n",
        "\n",
        "#@markdown Use the following option **only if you chose Ngrok** as the Tunnel:\n",
        "\n",
        "#@markdown You can get the Ngrok Authtoken here: https://dashboard.ngrok.com/tunnels/authtokens/new.\n",
        "\n",
        "ngrok_authtoken = \"\" #@param {type:\"string\"}\n",
        "\n",
        "# @markdown You can optinally change the Ngrok Tunnel Region to one nearer to you for lower latency\n",
        "\n",
        "ngrok_region = \"us - United States (Ohio)\" # @param [\"au - Australia (Sydney)\",\"eu - Europe (Frankfurt)\", \"ap - Asia/Pacific (Singapore)\", \"us - United States (Ohio)\", \"jp - Japan (Tokyo)\", \"in - India (Mumbai)\",\"sa - South America (Sao Paulo)\"]\n",
        "\n",
        "\n",
        "\n",
        "#@markdown Use the following option **only if you chose Horizon** as the Tunnel:\n",
        "\n",
        "#@markdown You can get the Horizon ID here: https://hrzn.run/dashboard/ , login, on the 2nd step, it shows an `hrzn login YOUR_ID`, you need to copy that id.\n",
        "\n",
        "horizon_id = \"\" #@param {type:\"string\"}\n",
        "\n",
        "\n",
        "import codecs\n",
        "from IPython.display import clear_output\n",
        "\n",
        "RUNTIME = codecs.decode(\"znva.cl\", \"rot_13\")\n",
        "\n",
        "if Tunnel == \"Gradio\":\n",
        "    share_flag = \"--share\"\n",
        "elif Tunnel == \"Ngrok\":\n",
        "  share_flag = \"\"\n",
        "  from pyngrok import conf, ngrok\n",
        "  NgrokConfig = conf.PyngrokConfig()\n",
        "  NgrokConfig.auth_token = ngrok_authtoken\n",
        "  NgrokConfig.region = ngrok_region[0:2]\n",
        "  conf.set_default(NgrokConfig)\n",
        "  main_tunnel = ngrok.connect(7755)\n",
        "  print(\"Ngrok Tunnel Public URL:\", main_tunnel.public_url)\n",
        "elif Tunnel == \"LocalTunnel\":\n",
        "  share_flag = \"\"\n",
        "  # install\n",
        "  !npm install -g localtunnel\n",
        "  import time\n",
        "  import urllib\n",
        "  # run localtunnel\n",
        "  with open('url.txt', 'w') as file:\n",
        "        file.write('')\n",
        "\n",
        "  get_ipython().system_raw('lt --port 7755 >> url.txt 2>&1 &')\n",
        "\n",
        "  time.sleep(4)\n",
        "\n",
        "  endpoint_ip = urllib.request.urlopen('https://ipv4.icanhazip.com').read().decode('utf8').strip(\"\\n\")\n",
        "\n",
        "  with open('url.txt', 'r') as file:\n",
        "      tunnel_url = file.read()\n",
        "      tunnel_url = tunnel_url.replace(\"your url is: \", \"\")\n",
        "\n",
        "  clear_output()\n",
        "  print(f\"LocalTunnel Tunnel Public URL: \\033[0m\\033[93m{tunnel_url}\\033[0m\", end=\"\\033[0m\")\n",
        "\n",
        "  print(f'LocalTunnel Password: {endpoint_ip}')\n",
        "elif Tunnel == \"Horizon\":\n",
        "  share_flag = \"\"\n",
        "  # install\n",
        "  !npm install -g @hrzn/cli\n",
        "  import time\n",
        "  # login\n",
        "  !hrzn login $horizon_id\n",
        "  # run horizon\n",
        "  with open('url.txt', 'w') as file:\n",
        "        file.write('')\n",
        "\n",
        "  get_ipython().system_raw('hrzn tunnel http://localhost:7755 >> url.txt 2>&1 &')\n",
        "\n",
        "  time.sleep(4)\n",
        "\n",
        "  with open('url.txt', 'r') as file:\n",
        "      tunnel_url = file.read()\n",
        "      tunnel_url = !grep -oE \"https://[a-zA-Z0-9.-]+\\.hrzn\\.run\" url.txt\n",
        "      tunnel_url = tunnel_url[0]\n",
        "\n",
        "  clear_output()\n",
        "\n",
        "  print(f\"Horizon Tunnel Public URL: \\033[0m\\033[93m{tunnel_url}\\033[0m\")\n",
        "\n",
        "# kills previously running processes\n",
        "!fuser -k 7755/tcp\n",
        "\n",
        "command = f\"python {RUNTIME} {share_flag}\"\n",
        "\n",
        "!{command}"
      ],
      "metadata": {
        "cellView": "form",
        "id": "sDo4MkcLcN5l"
      },
      "execution_count": null,
      "outputs": []
    }
  ]
}